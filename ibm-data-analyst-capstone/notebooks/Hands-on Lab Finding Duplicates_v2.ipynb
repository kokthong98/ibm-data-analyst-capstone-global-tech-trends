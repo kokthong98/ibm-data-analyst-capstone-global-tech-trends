{
 "cells": [
  {
   "cell_type": "markdown",
   "metadata": {},
   "source": [
    "<p style=\"text-align:center\">\n",
    "    <a href=\"https://skills.network\" target=\"_blank\">\n",
    "    <img src=\"https://cf-courses-data.s3.us.cloud-object-storage.appdomain.cloud/assets/logos/SN_web_lightmode.png\" width=\"200\" alt=\"Skills Network Logo\"  />\n",
    "    </a>\n",
    "</p>\n"
   ]
  },
  {
   "cell_type": "markdown",
   "metadata": {},
   "source": [
    "# **Finding Duplicates Lab**\n"
   ]
  },
  {
   "cell_type": "markdown",
   "metadata": {},
   "source": [
    "Estimated time needed: **30** minutes\n"
   ]
  },
  {
   "cell_type": "markdown",
   "metadata": {},
   "source": [
    "## Introduction\n"
   ]
  },
  {
   "cell_type": "markdown",
   "metadata": {},
   "source": [
    "Data wrangling is a critical step in preparing datasets for analysis, and handling duplicates plays a key role in ensuring data accuracy. In this lab, you will focus on identifying and removing duplicate entries from your dataset. \n"
   ]
  },
  {
   "cell_type": "markdown",
   "metadata": {},
   "source": [
    "## Objectives\n"
   ]
  },
  {
   "cell_type": "markdown",
   "metadata": {},
   "source": [
    "In this lab, you will perform the following:\n"
   ]
  },
  {
   "cell_type": "markdown",
   "metadata": {},
   "source": [
    "1. Identify duplicate rows in the dataset and analyze their characteristics.\n",
    "2. Visualize the distribution of duplicates based on key attributes.\n",
    "3. Remove duplicate values strategically based on specific criteria.\n",
    "4. Outline the process of verifying and documenting duplicate removal.\n"
   ]
  },
  {
   "cell_type": "markdown",
   "metadata": {},
   "source": [
    "## Hands on Lab\n"
   ]
  },
  {
   "cell_type": "markdown",
   "metadata": {},
   "source": [
    "Install the needed library\n"
   ]
  },
  {
   "cell_type": "code",
   "execution_count": 1,
   "metadata": {},
   "outputs": [
    {
     "name": "stdout",
     "output_type": "stream",
     "text": [
      "Collecting pandas\n",
      "  Downloading pandas-2.3.1-cp312-cp312-manylinux_2_17_x86_64.manylinux2014_x86_64.whl.metadata (91 kB)\n",
      "Collecting numpy>=1.26.0 (from pandas)\n",
      "  Downloading numpy-2.3.1-cp312-cp312-manylinux_2_28_x86_64.whl.metadata (62 kB)\n",
      "Requirement already satisfied: python-dateutil>=2.8.2 in /opt/conda/lib/python3.12/site-packages (from pandas) (2.9.0.post0)\n",
      "Requirement already satisfied: pytz>=2020.1 in /opt/conda/lib/python3.12/site-packages (from pandas) (2024.2)\n",
      "Collecting tzdata>=2022.7 (from pandas)\n",
      "  Downloading tzdata-2025.2-py2.py3-none-any.whl.metadata (1.4 kB)\n",
      "Requirement already satisfied: six>=1.5 in /opt/conda/lib/python3.12/site-packages (from python-dateutil>=2.8.2->pandas) (1.17.0)\n",
      "Downloading pandas-2.3.1-cp312-cp312-manylinux_2_17_x86_64.manylinux2014_x86_64.whl (12.0 MB)\n",
      "\u001b[2K   \u001b[90m━━━━━━━━━━━━━━━━━━━━━━━━━━━━━━━━━━━━━━━━\u001b[0m \u001b[32m12.0/12.0 MB\u001b[0m \u001b[31m115.4 MB/s\u001b[0m eta \u001b[36m0:00:00\u001b[0m\n",
      "\u001b[?25hDownloading numpy-2.3.1-cp312-cp312-manylinux_2_28_x86_64.whl (16.6 MB)\n",
      "\u001b[2K   \u001b[90m━━━━━━━━━━━━━━━━━━━━━━━━━━━━━━━━━━━━━━━━\u001b[0m \u001b[32m16.6/16.6 MB\u001b[0m \u001b[31m148.6 MB/s\u001b[0m eta \u001b[36m0:00:00\u001b[0m\n",
      "\u001b[?25hDownloading tzdata-2025.2-py2.py3-none-any.whl (347 kB)\n",
      "Installing collected packages: tzdata, numpy, pandas\n",
      "Successfully installed numpy-2.3.1 pandas-2.3.1 tzdata-2025.2\n",
      "Collecting matplotlib\n",
      "  Downloading matplotlib-3.10.3-cp312-cp312-manylinux_2_17_x86_64.manylinux2014_x86_64.whl.metadata (11 kB)\n",
      "Collecting contourpy>=1.0.1 (from matplotlib)\n",
      "  Downloading contourpy-1.3.2-cp312-cp312-manylinux_2_17_x86_64.manylinux2014_x86_64.whl.metadata (5.5 kB)\n",
      "Collecting cycler>=0.10 (from matplotlib)\n",
      "  Downloading cycler-0.12.1-py3-none-any.whl.metadata (3.8 kB)\n",
      "Collecting fonttools>=4.22.0 (from matplotlib)\n",
      "  Downloading fonttools-4.58.5-cp312-cp312-manylinux1_x86_64.manylinux2014_x86_64.manylinux_2_17_x86_64.manylinux_2_5_x86_64.whl.metadata (106 kB)\n",
      "Collecting kiwisolver>=1.3.1 (from matplotlib)\n",
      "  Downloading kiwisolver-1.4.8-cp312-cp312-manylinux_2_17_x86_64.manylinux2014_x86_64.whl.metadata (6.2 kB)\n",
      "Requirement already satisfied: numpy>=1.23 in /opt/conda/lib/python3.12/site-packages (from matplotlib) (2.3.1)\n",
      "Requirement already satisfied: packaging>=20.0 in /opt/conda/lib/python3.12/site-packages (from matplotlib) (24.2)\n",
      "Collecting pillow>=8 (from matplotlib)\n",
      "  Downloading pillow-11.3.0-cp312-cp312-manylinux_2_27_x86_64.manylinux_2_28_x86_64.whl.metadata (9.0 kB)\n",
      "Collecting pyparsing>=2.3.1 (from matplotlib)\n",
      "  Downloading pyparsing-3.2.3-py3-none-any.whl.metadata (5.0 kB)\n",
      "Requirement already satisfied: python-dateutil>=2.7 in /opt/conda/lib/python3.12/site-packages (from matplotlib) (2.9.0.post0)\n",
      "Requirement already satisfied: six>=1.5 in /opt/conda/lib/python3.12/site-packages (from python-dateutil>=2.7->matplotlib) (1.17.0)\n",
      "Downloading matplotlib-3.10.3-cp312-cp312-manylinux_2_17_x86_64.manylinux2014_x86_64.whl (8.6 MB)\n",
      "\u001b[2K   \u001b[90m━━━━━━━━━━━━━━━━━━━━━━━━━━━━━━━━━━━━━━━━\u001b[0m \u001b[32m8.6/8.6 MB\u001b[0m \u001b[31m91.1 MB/s\u001b[0m eta \u001b[36m0:00:00\u001b[0m\n",
      "\u001b[?25hDownloading contourpy-1.3.2-cp312-cp312-manylinux_2_17_x86_64.manylinux2014_x86_64.whl (323 kB)\n",
      "Downloading cycler-0.12.1-py3-none-any.whl (8.3 kB)\n",
      "Downloading fonttools-4.58.5-cp312-cp312-manylinux1_x86_64.manylinux2014_x86_64.manylinux_2_17_x86_64.manylinux_2_5_x86_64.whl (4.9 MB)\n",
      "\u001b[2K   \u001b[90m━━━━━━━━━━━━━━━━━━━━━━━━━━━━━━━━━━━━━━━━\u001b[0m \u001b[32m4.9/4.9 MB\u001b[0m \u001b[31m84.6 MB/s\u001b[0m eta \u001b[36m0:00:00\u001b[0m\n",
      "\u001b[?25hDownloading kiwisolver-1.4.8-cp312-cp312-manylinux_2_17_x86_64.manylinux2014_x86_64.whl (1.5 MB)\n",
      "\u001b[2K   \u001b[90m━━━━━━━━━━━━━━━━━━━━━━━━━━━━━━━━━━━━━━━━\u001b[0m \u001b[32m1.5/1.5 MB\u001b[0m \u001b[31m49.8 MB/s\u001b[0m eta \u001b[36m0:00:00\u001b[0m\n",
      "\u001b[?25hDownloading pillow-11.3.0-cp312-cp312-manylinux_2_27_x86_64.manylinux_2_28_x86_64.whl (6.6 MB)\n",
      "\u001b[2K   \u001b[90m━━━━━━━━━━━━━━━━━━━━━━━━━━━━━━━━━━━━━━━━\u001b[0m \u001b[32m6.6/6.6 MB\u001b[0m \u001b[31m105.6 MB/s\u001b[0m eta \u001b[36m0:00:00\u001b[0m\n",
      "\u001b[?25hDownloading pyparsing-3.2.3-py3-none-any.whl (111 kB)\n",
      "Installing collected packages: pyparsing, pillow, kiwisolver, fonttools, cycler, contourpy, matplotlib\n",
      "Successfully installed contourpy-1.3.2 cycler-0.12.1 fonttools-4.58.5 kiwisolver-1.4.8 matplotlib-3.10.3 pillow-11.3.0 pyparsing-3.2.3\n"
     ]
    }
   ],
   "source": [
    "!pip install pandas\n",
    "!pip install matplotlib"
   ]
  },
  {
   "cell_type": "markdown",
   "metadata": {},
   "source": [
    "Import pandas module\n"
   ]
  },
  {
   "cell_type": "code",
   "execution_count": 3,
   "metadata": {},
   "outputs": [],
   "source": [
    "import pandas as pd\n"
   ]
  },
  {
   "cell_type": "markdown",
   "metadata": {},
   "source": [
    "Import matplotlib\n"
   ]
  },
  {
   "cell_type": "code",
   "execution_count": 4,
   "metadata": {},
   "outputs": [],
   "source": [
    "import matplotlib.pyplot as plt\n"
   ]
  },
  {
   "cell_type": "markdown",
   "metadata": {},
   "source": [
    "## **Load the dataset into a dataframe**\n"
   ]
  },
  {
   "cell_type": "markdown",
   "metadata": {},
   "source": [
    "<h2>Read Data</h2>\n",
    "<p>\n",
    "We utilize the <code>pandas.read_csv()</code> function for reading CSV files. However, in this version of the lab, which operates on JupyterLite, the dataset needs to be downloaded to the interface using the provided code below.\n",
    "</p>\n"
   ]
  },
  {
   "cell_type": "code",
   "execution_count": 5,
   "metadata": {},
   "outputs": [
    {
     "name": "stdout",
     "output_type": "stream",
     "text": [
      "   ResponseId                      MainBranch                 Age  \\\n",
      "0           1  I am a developer by profession  Under 18 years old   \n",
      "1           2  I am a developer by profession     35-44 years old   \n",
      "2           3  I am a developer by profession     45-54 years old   \n",
      "3           4           I am learning to code     18-24 years old   \n",
      "4           5  I am a developer by profession     18-24 years old   \n",
      "\n",
      "            Employment RemoteWork   Check  \\\n",
      "0  Employed, full-time     Remote  Apples   \n",
      "1  Employed, full-time     Remote  Apples   \n",
      "2  Employed, full-time     Remote  Apples   \n",
      "3   Student, full-time        NaN  Apples   \n",
      "4   Student, full-time        NaN  Apples   \n",
      "\n",
      "                                    CodingActivities  \\\n",
      "0                                              Hobby   \n",
      "1  Hobby;Contribute to open-source projects;Other...   \n",
      "2  Hobby;Contribute to open-source projects;Other...   \n",
      "3                                                NaN   \n",
      "4                                                NaN   \n",
      "\n",
      "                                             EdLevel  \\\n",
      "0                          Primary/elementary school   \n",
      "1       Bachelor’s degree (B.A., B.S., B.Eng., etc.)   \n",
      "2    Master’s degree (M.A., M.S., M.Eng., MBA, etc.)   \n",
      "3  Some college/university study without earning ...   \n",
      "4  Secondary school (e.g. American high school, G...   \n",
      "\n",
      "                                           LearnCode  \\\n",
      "0                             Books / Physical media   \n",
      "1  Books / Physical media;Colleague;On the job tr...   \n",
      "2  Books / Physical media;Colleague;On the job tr...   \n",
      "3  Other online resources (e.g., videos, blogs, f...   \n",
      "4  Other online resources (e.g., videos, blogs, f...   \n",
      "\n",
      "                                     LearnCodeOnline  ... JobSatPoints_6  \\\n",
      "0                                                NaN  ...            NaN   \n",
      "1  Technical documentation;Blogs;Books;Written Tu...  ...            0.0   \n",
      "2  Technical documentation;Blogs;Books;Written Tu...  ...            NaN   \n",
      "3  Stack Overflow;How-to videos;Interactive tutorial  ...            NaN   \n",
      "4  Technical documentation;Blogs;Written Tutorial...  ...            NaN   \n",
      "\n",
      "  JobSatPoints_7 JobSatPoints_8 JobSatPoints_9 JobSatPoints_10  \\\n",
      "0            NaN            NaN            NaN             NaN   \n",
      "1            0.0            0.0            0.0             0.0   \n",
      "2            NaN            NaN            NaN             NaN   \n",
      "3            NaN            NaN            NaN             NaN   \n",
      "4            NaN            NaN            NaN             NaN   \n",
      "\n",
      "  JobSatPoints_11           SurveyLength SurveyEase ConvertedCompYearly JobSat  \n",
      "0             NaN                    NaN        NaN                 NaN    NaN  \n",
      "1             0.0                    NaN        NaN                 NaN    NaN  \n",
      "2             NaN  Appropriate in length       Easy                 NaN    NaN  \n",
      "3             NaN               Too long       Easy                 NaN    NaN  \n",
      "4             NaN              Too short       Easy                 NaN    NaN  \n",
      "\n",
      "[5 rows x 114 columns]\n"
     ]
    }
   ],
   "source": [
    "# Load the dataset directly from the URL\n",
    "file_path = \"https://cf-courses-data.s3.us.cloud-object-storage.appdomain.cloud/VYPrOu0Vs3I0hKLLjiPGrA/survey-data-with-duplicate.csv\"\n",
    "df = pd.read_csv(file_path)\n",
    "\n",
    "# Display the first few rows\n",
    "print(df.head())"
   ]
  },
  {
   "cell_type": "markdown",
   "metadata": {},
   "source": [
    "Load the data into a pandas dataframe:\n",
    "\n"
   ]
  },
  {
   "cell_type": "markdown",
   "metadata": {},
   "source": [
    "Note: If you are working on a local Jupyter environment, you can use the URL directly in the pandas.read_csv() function as shown below:\n",
    "\n"
   ]
  },
  {
   "cell_type": "code",
   "execution_count": null,
   "metadata": {},
   "outputs": [],
   "source": [
    "# df = pd.read_csv(\"https://cf-courses-data.s3.us.cloud-object-storage.appdomain.cloud/n01PQ9pSmiRX6520flujwQ/survey-data.csv\")\n"
   ]
  },
  {
   "cell_type": "markdown",
   "metadata": {},
   "source": [
    "## Identify and Analyze Duplicates\n"
   ]
  },
  {
   "cell_type": "markdown",
   "metadata": {},
   "source": [
    "### Task 1: Identify Duplicate Rows\n",
    "1. Count the number of duplicate rows in the dataset.\n",
    "3. Display the first few duplicate rows to understand their structure.\n"
   ]
  },
  {
   "cell_type": "code",
   "execution_count": 7,
   "metadata": {},
   "outputs": [
    {
     "name": "stdout",
     "output_type": "stream",
     "text": [
      "Number of duplicate rows: 20\n",
      "       ResponseId                      MainBranch                 Age  \\\n",
      "65437           1  I am a developer by profession  Under 18 years old   \n",
      "65438           2  I am a developer by profession     35-44 years old   \n",
      "65439           3  I am a developer by profession     45-54 years old   \n",
      "65440           4           I am learning to code     18-24 years old   \n",
      "65441           5  I am a developer by profession     18-24 years old   \n",
      "\n",
      "                Employment RemoteWork   Check  \\\n",
      "65437  Employed, full-time     Remote  Apples   \n",
      "65438  Employed, full-time     Remote  Apples   \n",
      "65439  Employed, full-time     Remote  Apples   \n",
      "65440   Student, full-time        NaN  Apples   \n",
      "65441   Student, full-time        NaN  Apples   \n",
      "\n",
      "                                        CodingActivities  \\\n",
      "65437                                              Hobby   \n",
      "65438  Hobby;Contribute to open-source projects;Other...   \n",
      "65439  Hobby;Contribute to open-source projects;Other...   \n",
      "65440                                                NaN   \n",
      "65441                                                NaN   \n",
      "\n",
      "                                                 EdLevel  \\\n",
      "65437                          Primary/elementary school   \n",
      "65438       Bachelor’s degree (B.A., B.S., B.Eng., etc.)   \n",
      "65439    Master’s degree (M.A., M.S., M.Eng., MBA, etc.)   \n",
      "65440  Some college/university study without earning ...   \n",
      "65441  Secondary school (e.g. American high school, G...   \n",
      "\n",
      "                                               LearnCode  \\\n",
      "65437                             Books / Physical media   \n",
      "65438  Books / Physical media;Colleague;On the job tr...   \n",
      "65439  Books / Physical media;Colleague;On the job tr...   \n",
      "65440  Other online resources (e.g., videos, blogs, f...   \n",
      "65441  Other online resources (e.g., videos, blogs, f...   \n",
      "\n",
      "                                         LearnCodeOnline  ... JobSatPoints_6  \\\n",
      "65437                                                NaN  ...            NaN   \n",
      "65438  Technical documentation;Blogs;Books;Written Tu...  ...            0.0   \n",
      "65439  Technical documentation;Blogs;Books;Written Tu...  ...            NaN   \n",
      "65440  Stack Overflow;How-to videos;Interactive tutorial  ...            NaN   \n",
      "65441  Technical documentation;Blogs;Written Tutorial...  ...            NaN   \n",
      "\n",
      "      JobSatPoints_7 JobSatPoints_8 JobSatPoints_9 JobSatPoints_10  \\\n",
      "65437            NaN            NaN            NaN             NaN   \n",
      "65438            0.0            0.0            0.0             0.0   \n",
      "65439            NaN            NaN            NaN             NaN   \n",
      "65440            NaN            NaN            NaN             NaN   \n",
      "65441            NaN            NaN            NaN             NaN   \n",
      "\n",
      "      JobSatPoints_11           SurveyLength SurveyEase ConvertedCompYearly  \\\n",
      "65437             NaN                    NaN        NaN                 NaN   \n",
      "65438             0.0                    NaN        NaN                 NaN   \n",
      "65439             NaN  Appropriate in length       Easy                 NaN   \n",
      "65440             NaN               Too long       Easy                 NaN   \n",
      "65441             NaN              Too short       Easy                 NaN   \n",
      "\n",
      "      JobSat  \n",
      "65437    NaN  \n",
      "65438    NaN  \n",
      "65439    NaN  \n",
      "65440    NaN  \n",
      "65441    NaN  \n",
      "\n",
      "[5 rows x 114 columns]\n"
     ]
    }
   ],
   "source": [
    "# Count the number of duplicate rows in the dataset.\n",
    "num_duplicates = df.duplicated().sum()\n",
    "print(\"Number of duplicate rows:\", num_duplicates)\n",
    "\n",
    "# Display the first few duplicate rows to understand their structure.\n",
    "duplicates = df[df.duplicated()]\n",
    "print(duplicates.head())"
   ]
  },
  {
   "cell_type": "markdown",
   "metadata": {},
   "source": [
    "### Task 2: Analyze Characteristics of Duplicates\n",
    "1. Identify duplicate rows based on selected columns such as MainBranch, Employment, and RemoteWork. Analyse which columns frequently contain identical values within these duplicate rows.\n",
    "2. Analyse the characteristics of rows that are duplicates based on a subset of columns, such as MainBranch, Employment, and RemoteWork. Determine which columns frequently have identical values across these rows.\n",
    "   \n"
   ]
  },
  {
   "cell_type": "code",
   "execution_count": 9,
   "metadata": {},
   "outputs": [
    {
     "name": "stdout",
     "output_type": "stream",
     "text": [
      "   ResponseId                      MainBranch                 Age  \\\n",
      "0           1  I am a developer by profession  Under 18 years old   \n",
      "1           2  I am a developer by profession     35-44 years old   \n",
      "2           3  I am a developer by profession     45-54 years old   \n",
      "3           4           I am learning to code     18-24 years old   \n",
      "4           5  I am a developer by profession     18-24 years old   \n",
      "\n",
      "            Employment RemoteWork   Check  \\\n",
      "0  Employed, full-time     Remote  Apples   \n",
      "1  Employed, full-time     Remote  Apples   \n",
      "2  Employed, full-time     Remote  Apples   \n",
      "3   Student, full-time        NaN  Apples   \n",
      "4   Student, full-time        NaN  Apples   \n",
      "\n",
      "                                    CodingActivities  \\\n",
      "0                                              Hobby   \n",
      "1  Hobby;Contribute to open-source projects;Other...   \n",
      "2  Hobby;Contribute to open-source projects;Other...   \n",
      "3                                                NaN   \n",
      "4                                                NaN   \n",
      "\n",
      "                                             EdLevel  \\\n",
      "0                          Primary/elementary school   \n",
      "1       Bachelor’s degree (B.A., B.S., B.Eng., etc.)   \n",
      "2    Master’s degree (M.A., M.S., M.Eng., MBA, etc.)   \n",
      "3  Some college/university study without earning ...   \n",
      "4  Secondary school (e.g. American high school, G...   \n",
      "\n",
      "                                           LearnCode  \\\n",
      "0                             Books / Physical media   \n",
      "1  Books / Physical media;Colleague;On the job tr...   \n",
      "2  Books / Physical media;Colleague;On the job tr...   \n",
      "3  Other online resources (e.g., videos, blogs, f...   \n",
      "4  Other online resources (e.g., videos, blogs, f...   \n",
      "\n",
      "                                     LearnCodeOnline  ... JobSatPoints_6  \\\n",
      "0                                                NaN  ...            NaN   \n",
      "1  Technical documentation;Blogs;Books;Written Tu...  ...            0.0   \n",
      "2  Technical documentation;Blogs;Books;Written Tu...  ...            NaN   \n",
      "3  Stack Overflow;How-to videos;Interactive tutorial  ...            NaN   \n",
      "4  Technical documentation;Blogs;Written Tutorial...  ...            NaN   \n",
      "\n",
      "  JobSatPoints_7 JobSatPoints_8 JobSatPoints_9 JobSatPoints_10  \\\n",
      "0            NaN            NaN            NaN             NaN   \n",
      "1            0.0            0.0            0.0             0.0   \n",
      "2            NaN            NaN            NaN             NaN   \n",
      "3            NaN            NaN            NaN             NaN   \n",
      "4            NaN            NaN            NaN             NaN   \n",
      "\n",
      "  JobSatPoints_11           SurveyLength SurveyEase ConvertedCompYearly JobSat  \n",
      "0             NaN                    NaN        NaN                 NaN    NaN  \n",
      "1             0.0                    NaN        NaN                 NaN    NaN  \n",
      "2             NaN  Appropriate in length       Easy                 NaN    NaN  \n",
      "3             NaN               Too long       Easy                 NaN    NaN  \n",
      "4             NaN              Too short       Easy                 NaN    NaN  \n",
      "\n",
      "[5 rows x 114 columns]\n",
      "ResponseId: 0.00% identical values (1)\n",
      "MainBranch: 76.85% identical values (I am a developer by profession)\n",
      "Age: 36.57% identical values (25-34 years old)\n",
      "Employment: 59.81% identical values (Employed, full-time)\n",
      "RemoteWork: 35.19% identical values (Hybrid (some remote, some in-person))\n",
      "Check: 100.00% identical values (Apples)\n",
      "CodingActivities: 15.30% identical values (Hobby)\n",
      "EdLevel: 38.15% identical values (Bachelor’s degree (B.A., B.S., B.Eng., etc.))\n",
      "LearnCode: 5.61% identical values (Other online resources (e.g., videos, blogs, forum, online community))\n",
      "LearnCodeOnline: 0.92% identical values (Technical documentation;Blogs;Written Tutorials;Stack Overflow)\n",
      "TechDoc: 10.62% identical values (API document(s) and/or SDK document(s);User guides or README files found in the source repository;Traditional public search engine)\n",
      "YearsCode: 6.98% identical values (10)\n",
      "YearsCodePro: 6.37% identical values (2)\n",
      "DevType: 27.95% identical values (Developer, full-stack)\n",
      "OrgSize: 14.93% identical values (20 to 99 employees)\n",
      "PurchaseInfluence: 29.38% identical values (I have some influence)\n",
      "BuyNewTool: 10.13% identical values (Start a free trial;Ask developers I know/work with;Visit developer communities like Stack Overflow)\n",
      "BuildvsBuy: 39.73% identical values (Is ready-to-go but also customizable for growth and targeted use cases)\n",
      "TechEndorse: 2.29% identical values (APIs;Customization;Reputation for quality and excellence)\n",
      "Country: 16.95% identical values (United States of America)\n",
      "Currency: 19.49% identical values (EUR European Euro)\n",
      "CompTotal: 1.44% identical values (100000.0)\n",
      "LanguageHaveWorkedWith: 1.54% identical values (HTML/CSS;JavaScript;TypeScript)\n",
      "LanguageWantToWorkWith: 1.41% identical values (Python)\n",
      "LanguageAdmired: 2.38% identical values (Python)\n",
      "DatabaseHaveWorkedWith: 4.92% identical values (PostgreSQL)\n",
      "DatabaseWantToWorkWith: 5.71% identical values (PostgreSQL)\n",
      "DatabaseAdmired: 7.48% identical values (PostgreSQL)\n",
      "PlatformHaveWorkedWith: 10.10% identical values (Amazon Web Services (AWS))\n",
      "PlatformWantToWorkWith: 7.44% identical values (Amazon Web Services (AWS))\n",
      "PlatformAdmired: 9.55% identical values (Amazon Web Services (AWS))\n",
      "WebframeHaveWorkedWith: 1.96% identical values (React)\n",
      "WebframeWantToWorkWith: 1.52% identical values (React)\n",
      "WebframeAdmired: 2.17% identical values (React)\n",
      "EmbeddedHaveWorkedWith: 5.95% identical values (Rasberry Pi)\n",
      "EmbeddedWantToWorkWith: 4.64% identical values (Rasberry Pi)\n",
      "EmbeddedAdmired: 5.27% identical values (Rasberry Pi)\n",
      "MiscTechHaveWorkedWith: 3.65% identical values (.NET (5+) )\n",
      "MiscTechWantToWorkWith: 3.64% identical values (.NET (5+) )\n",
      "MiscTechAdmired: 5.50% identical values (.NET (5+) )\n",
      "ToolsTechHaveWorkedWith: 1.45% identical values (Docker)\n",
      "ToolsTechWantToWorkWith: 1.81% identical values (Docker)\n",
      "ToolsTechAdmired: 2.42% identical values (Docker)\n",
      "NEWCollabToolsHaveWorkedWith: 9.42% identical values (Visual Studio Code)\n",
      "NEWCollabToolsWantToWorkWith: 10.32% identical values (Visual Studio Code)\n",
      "NEWCollabToolsAdmired: 12.61% identical values (Visual Studio Code)\n",
      "OpSysPersonal use: 17.62% identical values (Windows)\n",
      "OpSysProfessional use: 16.02% identical values (Windows)\n",
      "OfficeStackAsyncHaveWorkedWith: 5.69% identical values (Jira)\n",
      "OfficeStackAsyncWantToWorkWith: 4.66% identical values (Jira)\n",
      "OfficeStackAsyncAdmired: 5.07% identical values (Jira)\n",
      "OfficeStackSyncHaveWorkedWith: 8.82% identical values (Microsoft Teams)\n",
      "OfficeStackSyncWantToWorkWith: 6.62% identical values (Microsoft Teams)\n",
      "OfficeStackSyncAdmired: 7.16% identical values (Microsoft Teams)\n",
      "AISearchDevHaveWorkedWith: 16.52% identical values (ChatGPT)\n",
      "AISearchDevWantToWorkWith: 11.44% identical values (ChatGPT)\n",
      "AISearchDevAdmired: 15.44% identical values (ChatGPT)\n",
      "NEWSOSites: 46.12% identical values (Stack Overflow;Stack Exchange)\n",
      "SOVisitFreq: 29.40% identical values (A few times per week)\n",
      "SOAccount: 69.49% identical values (Yes)\n",
      "SOPartFreq: 36.94% identical values (Less than once per month or monthly)\n",
      "SOHow: 20.72% identical values (Quickly finding code solutions;Finding reliable guidance from community-vetted answers)\n",
      "SOComm: 27.11% identical values (No, not really)\n",
      "AISelect: 57.56% identical values (Yes)\n",
      "AISent: 33.89% identical values (Favorable)\n",
      "AIBen: 6.72% identical values (Increase productivity;Greater efficiency;Speed up learning)\n",
      "AIAcc: 23.00% identical values (Somewhat trust)\n",
      "AIComplex: 18.49% identical values (Good, but not great at handling complex tasks)\n",
      "AIToolCurrently Using: 3.10% identical values (Writing code;Debugging and getting help;Search for answers)\n",
      "AIToolInterested in Using: 0.91% identical values (Learning about a codebase)\n",
      "AIToolNot interested in Using: 2.65% identical values (Project planning)\n",
      "AINextMuch more integrated: 2.18% identical values (Search for answers)\n",
      "AINextNo change: 2.83% identical values (Writing code)\n",
      "AINextMore integrated: 3.99% identical values (Writing code)\n",
      "AINextLess integrated: 0.75% identical values (Writing code)\n",
      "AINextMuch less integrated: 0.23% identical values (Writing code)\n",
      "AIThreat: 46.53% identical values (No)\n",
      "AIEthics: 4.59% identical values (Circulating misinformation or disinformation;Missing or incorrect attribution for sources of data;Biased results that do not represent diverse viewpoints)\n",
      "AIChallenges: 8.42% identical values (Don’t trust the output or answers;AI tools lack context of codebase,  internal architecture, and/or company knowledge)\n",
      "TBranch: 45.84% identical values (Yes)\n",
      "ICorPM: 39.61% identical values (Individual contributor)\n",
      "WorkExp: 3.28% identical values (3.0)\n",
      "Knowledge_1: 20.59% identical values (Agree)\n",
      "Knowledge_2: 13.86% identical values (Agree)\n",
      "Knowledge_3: 16.80% identical values (Agree)\n",
      "Knowledge_4: 19.14% identical values (Agree)\n",
      "Knowledge_5: 22.36% identical values (Agree)\n",
      "Knowledge_6: 15.20% identical values (Agree)\n",
      "Knowledge_7: 15.73% identical values (Agree)\n",
      "Knowledge_8: 16.46% identical values (Agree)\n",
      "Knowledge_9: 10.18% identical values (Agree)\n",
      "Frequency_1: 26.00% identical values (1-2 times a week)\n",
      "Frequency_2: 19.25% identical values (1-2 times a week)\n",
      "Frequency_3: 22.08% identical values (1-2 times a week)\n",
      "TimeSearching: 16.77% identical values (30-60 minutes a day)\n",
      "TimeAnswering: 14.30% identical values (15-30 minutes a day)\n",
      "Frustration: 3.61% identical values (None of these)\n",
      "ProfessionalTech: 4.33% identical values (None of these)\n",
      "ProfessionalCloud: 20.24% identical values (Hybrid (on-prem and cloud))\n",
      "ProfessionalQuestion: 24.20% identical values (Traditional public search engine)\n",
      "Industry: 18.23% identical values (Software Development)\n",
      "JobSatPoints_1: 17.25% identical values (0.0)\n",
      "JobSatPoints_4: 30.49% identical values (0.0)\n",
      "JobSatPoints_5: 27.26% identical values (0.0)\n",
      "JobSatPoints_6: 12.11% identical values (0.0)\n",
      "JobSatPoints_7: 12.42% identical values (0.0)\n",
      "JobSatPoints_8: 15.42% identical values (0.0)\n",
      "JobSatPoints_9: 19.23% identical values (0.0)\n",
      "JobSatPoints_10: 26.52% identical values (0.0)\n",
      "JobSatPoints_11: 27.99% identical values (0.0)\n",
      "SurveyLength: 59.26% identical values (Appropriate in length)\n",
      "SurveyEase: 45.98% identical values (Easy)\n",
      "ConvertedCompYearly: 0.49% identical values (64444.0)\n",
      "JobSat: 11.49% identical values (8.0)\n"
     ]
    }
   ],
   "source": [
    "# Find duplicates based only on MainBranch, Employment, and RemoteWork\n",
    "subset_duplicates = df[df.duplicated(subset=[\"MainBranch\", \"Employment\", \"RemoteWork\"], keep=False)]\n",
    "print(subset_duplicates.head())\n",
    "\n",
    "for col in df.columns:\n",
    "    most_common = subset_duplicates[col].mode()[0]  # most common value\n",
    "    count = (subset_duplicates[col] == most_common).sum()\n",
    "    percent = count / len(subset_duplicates) * 100\n",
    "    print(f\"{col}: {percent:.2f}% identical values ({most_common})\")\n"
   ]
  },
  {
   "cell_type": "markdown",
   "metadata": {},
   "source": [
    "### Task 3: Visualize Duplicates Distribution\n",
    "1. Create visualizations to show the distribution of duplicates across different categories.\n",
    "2. Use bar charts or pie charts to represent the distribution of duplicates by Country and Employment.\n"
   ]
  },
  {
   "cell_type": "code",
   "execution_count": 11,
   "metadata": {},
   "outputs": [
    {
     "data": {
      "image/png": "[encoded data removed]",
      "text/plain": [
       "<Figure size 1000x500 with 1 Axes>"
      ]
     },
     "metadata": {},
     "output_type": "display_data"
    },
    {
     "data": {
      "image/png": "[encoded data removed]",
      "text/plain": [
       "<Figure size 640x480 with 1 Axes>"
      ]
     },
     "metadata": {},
     "output_type": "display_data"
    }
   ],
   "source": [
    "# Get all duplicate rows (including originals)\n",
    "dupes = df[df.duplicated(keep=False)]\n",
    "\n",
    "import matplotlib.pyplot as plt\n",
    "\n",
    "plt.figure(figsize=(10,5))\n",
    "dupes['Country'].value_counts().head(10).plot(kind='bar')\n",
    "plt.title(\"Top 10 Countries with Duplicate Rows\")\n",
    "plt.xlabel(\"Country\")\n",
    "plt.ylabel(\"Number of Duplicate Rows\")\n",
    "plt.show()\n",
    "\n",
    "dupes['Employment'].value_counts().head(5).plot(kind='pie', autopct='%1.1f%%', startangle=140)\n",
    "plt.title(\"Duplicates by Employment (Top 5)\")\n",
    "plt.ylabel('')\n",
    "plt.show()"
   ]
  },
  {
   "cell_type": "markdown",
   "metadata": {},
   "source": [
    "### Task 4: Strategic Removal of Duplicates\n",
    "1. Decide which columns are critical for defining uniqueness in the dataset.\n",
    "2. Remove duplicates based on a subset of columns if complete row duplication is not a good criterion.\n"
   ]
  },
  {
   "cell_type": "code",
   "execution_count": 13,
   "metadata": {},
   "outputs": [
    {
     "name": "stdout",
     "output_type": "stream",
     "text": [
      "New shape after removing duplicates: (5118, 114)\n"
     ]
    }
   ],
   "source": [
    "unique_cols = [\"MainBranch\", \"Employment\", \"Country\"]\n",
    "\n",
    "# Drop duplicates keeping the first occurrence for the combination of selected columns\n",
    "df_no_dupes = df.drop_duplicates(subset=unique_cols, keep='first')\n",
    "print(\"New shape after removing duplicates:\", df_no_dupes.shape)\n"
   ]
  },
  {
   "cell_type": "markdown",
   "metadata": {},
   "source": [
    "## Verify and Document Duplicate Removal Process\n"
   ]
  },
  {
   "cell_type": "markdown",
   "metadata": {},
   "source": [
    "### Task 5: Documentation\n",
    "1. Document the process of identifying and removing duplicates.\n"
   ]
  },
  {
   "cell_type": "raw",
   "metadata": {},
   "source": [
    "# Step 1: Identifying Duplicates\n",
    "I started by searching for duplicate rows in the dataset using pandas’ .duplicated() function. This helped me count and view any repeated records, which can affect analysis accuracy.\n",
    "\n",
    "Step 2: Analyzing Duplicate Patterns\n",
    "Instead of just checking for complete row duplicates, I analyzed duplicates based on a combination of important columns (MainBranch, Employment, RemoteWork). This approach helped reveal if certain groups or types of respondents were more likely to appear multiple times.\n",
    "\n",
    "Step 3: Visualizing Duplicates\n",
    "To better understand the distribution of duplicates, I visualized how often duplicates appeared across different Country and Employment categories. This provided insight into which groups had the most repeated entries.\n",
    "\n",
    "Step 4: Strategic Removal\n",
    "For cleaning, I decided that a row should be considered unique if it had a unique combination of MainBranch, Employment, and RemoteWork. I used pandas’ drop_duplicates() method to keep only the first occurrence for each unique combination and removed the rest. This ensures each unique group is only represented once in the cleaned dataset.\n",
    "\n",
    "Step 5: Verification\n",
    "Finally, I checked that all duplicate combinations had been removed by re-running the duplicate check on the cleaned data. This confirmed that only unique rows, based on my chosen criteria, remained."
   ]
  },
  {
   "cell_type": "markdown",
   "metadata": {},
   "source": [
    "2. Explain the reasoning behind selecting specific columns for identifying and removing duplicates.\n"
   ]
  },
  {
   "cell_type": "raw",
   "metadata": {},
   "source": [
    "# When cleaning data, it’s important to only remove duplicates that are truly unnecessary or redundant.\n",
    "To do this, you need to define what makes a row “unique” for your analysis.\n",
    "\n",
    "In this lab, I selected the columns MainBranch, Employment, and RemoteWork for identifying and removing duplicates.\n",
    "The reasoning is:\n",
    "\n",
    "These columns represent the main attributes that define a respondent’s professional status and work arrangement.\n",
    "\n",
    "Other columns (such as comments, age, or country) might vary, but for analysis focused on job roles and work types, only one entry per unique combination of these attributes is needed.\n",
    "\n",
    "Removing duplicates based on these columns ensures that each unique group of respondents is only counted once, preventing certain groups from skewing the results by appearing multiple times.\n",
    "\n",
    "This approach also avoids accidentally removing rows that are similar but differ in important ways outside these key columns.\n",
    "\n",
    "In summary:\n",
    "By choosing only the most relevant columns for duplicate detection, I preserve the essential diversity of the data while eliminating redundant records, resulting in more accurate and meaningful analysis.\n",
    "\n"
   ]
  },
  {
   "cell_type": "markdown",
   "metadata": {},
   "source": [
    "### Summary and Next Steps\n",
    "**In this lab, you focused on identifying and analyzing duplicate rows within the dataset.**\n",
    "\n",
    "- You employed various techniques to explore the nature of duplicates and applied strategic methods for their removal.\n",
    "- For additional analysis, consider investigating the impact of duplicates on specific analyses and how their removal affects the results.\n",
    "- This version of the lab is more focused on duplicate analysis and handling, providing a structured approach to deal with duplicates in a dataset effectively.\n"
   ]
  },
  {
   "cell_type": "markdown",
   "metadata": {},
   "source": [
    "<!--\n",
    "## Change Log\n",
    "|Date (YYYY-MM-DD)|Version|Changed By|Change Description|\n",
    "|-|-|-|-|\n",
    "|2024-11- 05|1.3|Madhusudhan Moole|Updated lab|\n",
    "|2024-10-28|1.2|Madhusudhan Moole|Updated lab|\n",
    "|2024-09-24|1.1|Madhusudhan Moole|Updated lab|\n",
    "|2024-09-23|1.0|Raghul Ramesh|Created lab|\n",
    "--!>\n"
   ]
  },
  {
   "cell_type": "markdown",
   "metadata": {},
   "source": [
    "Copyright © IBM Corporation. All rights reserved.\n"
   ]
  }
 ],
 "metadata": {
  "kernelspec": {
   "display_name": "Python 3 (ipykernel)",
   "language": "python",
   "name": "python3"
  },
  "language_info": {
   "codemirror_mode": {
    "name": "ipython",
    "version": 3
   },
   "file_extension": ".py",
   "mimetype": "text/x-python",
   "name": "python",
   "nbconvert_exporter": "python",
   "pygments_lexer": "ipython3",
   "version": "3.12.8"
  },
  "prev_pub_hash": "fa3493caccf457f2b33a3a72ca6bf5789c2ce4157ea6e40534b09cc8380e8ae5"
 },
 "nbformat": 4,
 "nbformat_minor": 4
}
